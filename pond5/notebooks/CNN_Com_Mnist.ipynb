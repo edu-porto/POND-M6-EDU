{
  "nbformat": 4,
  "nbformat_minor": 0,
  "metadata": {
    "colab": {
      "provenance": []
    },
    "kernelspec": {
      "name": "python3",
      "display_name": "Python 3"
    },
    "language_info": {
      "name": "python"
    }
  },
  "cells": [
    {
      "cell_type": "code",
      "execution_count": 16,
      "metadata": {
        "id": "vcaS35zVl8-U"
      },
      "outputs": [],
      "source": [
        "# Importando libs\n",
        "\n",
        "import numpy as np\n",
        "import cv2\n",
        "from tensorflow.keras.models import load_model\n",
        "from keras.datasets import mnist\n",
        "import matplotlib.pyplot as plt\n",
        "from keras.utils import to_categorical\n",
        "\n"
      ]
    },
    {
      "cell_type": "code",
      "source": [
        "# Carregando o dataset\n",
        "(x_train, y_train), (x_test, y_test) = mnist.load_data()"
      ],
      "metadata": {
        "colab": {
          "base_uri": "https://localhost:8080/"
        },
        "id": "-PkTfEZAnO8o",
        "outputId": "2b23d380-1d53-463f-f37e-7d00687a030c"
      },
      "execution_count": 8,
      "outputs": [
        {
          "output_type": "stream",
          "name": "stdout",
          "text": [
            "Downloading data from https://storage.googleapis.com/tensorflow/tf-keras-datasets/mnist.npz\n",
            "11490434/11490434 [==============================] - 0s 0us/step\n"
          ]
        }
      ]
    },
    {
      "cell_type": "code",
      "source": [
        "# Mostrando as imagens dentro do notebook\n",
        "%matplotlib inline\n",
        "plt.imshow(x_train[4], cmap='gray_r')\n",
        "print(\"y_train_4: \",y_train[4])\n"
      ],
      "metadata": {
        "colab": {
          "base_uri": "https://localhost:8080/",
          "height": 447
        },
        "id": "xqIwRSOFn3QE",
        "outputId": "aa7f867b-de43-4b86-e486-90d5dd229559"
      },
      "execution_count": 15,
      "outputs": [
        {
          "output_type": "stream",
          "name": "stdout",
          "text": [
            "y_train_4:  9\n"
          ]
        },
        {
          "output_type": "display_data",
          "data": {
            "text/plain": [
              "<Figure size 640x480 with 1 Axes>"
            ],
            "image/png": "[encoded data removed]"
          },
          "metadata": {}
        }
      ]
    },
    {
      "cell_type": "code",
      "source": [
        "# Transformando labels em one-hot encoding\n",
        "y_train_category = to_categorical(y_train)\n",
        "y_test_category = to_categorical(y_test)\n",
        "\n",
        "## Checando o encoding\n",
        "print(y_train_category[1])\n",
        "print(y_test_category[1])\n",
        "\n"
      ],
      "metadata": {
        "colab": {
          "base_uri": "https://localhost:8080/"
        },
        "id": "5LpHvJd_oqE8",
        "outputId": "1cbe8450-0c3b-4c53-8890-3f699ad8a7cb"
      },
      "execution_count": 19,
      "outputs": [
        {
          "output_type": "stream",
          "name": "stdout",
          "text": [
            "[1. 0. 0. 0. 0. 0. 0. 0. 0. 0.]\n",
            "[0. 0. 1. 0. 0. 0. 0. 0. 0. 0.]\n"
          ]
        }
      ]
    },
    {
      "cell_type": "code",
      "source": [
        "# Normalizando os dados de treino e teste\n",
        "x_train_normalized = x_train/x_train.max()\n",
        "x_test_normalized = x_test/x_test.max()"
      ],
      "metadata": {
        "id": "pHyGur5IpWmH"
      },
      "execution_count": 20,
      "outputs": []
    },
    {
      "cell_type": "code",
      "source": [
        "# Dando um reshape em todos os inputs para o modelo\n",
        "x_train = x_train.reshape(len(x_train), 28,28,1)\n",
        "x_train_normalized = x_train_normalized.reshape(len(x_train_normalized), 28,28,1)\n",
        "x_test = x_test.reshape(len(x_test), 28,28,1)\n",
        "x_test_normalized = x_test_normalized.reshape(len(x_test_normalized), 28,28,1)\n",
        "\n"
      ],
      "metadata": {
        "id": "4aLyE8d_plbX"
      },
      "execution_count": 21,
      "outputs": []
    },
    {
      "cell_type": "code",
      "source": [
        "# Importação das bibliotecas necessárias para treinar a rede\n",
        "#Modelo da rede\n",
        "from keras.models import Sequential\n",
        "#Camadas que serão utilizadas\n",
        "from keras.layers import Dense, Conv2D, MaxPool2D, Flatten, Dropout"
      ],
      "metadata": {
        "id": "U5-lgcWDqO-_"
      },
      "execution_count": 22,
      "outputs": []
    },
    {
      "cell_type": "code",
      "source": [
        "# Criando um modelo de rede neural convolucional\n",
        "model = Sequential()\n",
        "# Primeira camada da rede neural\n",
        "model.add(Conv2D(filters=32, kernel_size=(5,5), padding='same', activation='relu', input_shape=(28, 28, 1)))\n",
        "# O maxpool faz o sub-sampling da amostra do kernel.\n",
        "model.add(MaxPool2D(strides=2))\n",
        "# Outra camada de convolução\n",
        "model.add(Conv2D(filters=48, kernel_size=(5,5), padding='valid', activation='relu'))\n",
        "model.add(MaxPool2D(strides=2))\n",
        "# Transforma as sáidas da camada anterior em um único vetor\n",
        "model.add(Flatten())\n",
        "# MLP com tamanhos específicos\n",
        "model.add(Dense(256, activation='relu'))\n",
        "model.add(Dense(84, activation='relu'))\n",
        "model.add(Dense(10, activation='softmax'))"
      ],
      "metadata": {
        "id": "TIlZdteCmn1O"
      },
      "execution_count": 23,
      "outputs": []
    },
    {
      "cell_type": "code",
      "source": [
        "# Criando o modelo\n",
        "model.build()\n",
        "model.summary()"
      ],
      "metadata": {
        "colab": {
          "base_uri": "https://localhost:8080/"
        },
        "id": "TAnTi-aYscQk",
        "outputId": "a0b4b375-040d-4ee6-b80c-d68ec7af3da2"
      },
      "execution_count": 24,
      "outputs": [
        {
          "output_type": "stream",
          "name": "stdout",
          "text": [
            "Model: \"sequential\"\n",
            "_________________________________________________________________\n",
            " Layer (type)                Output Shape              Param #   \n",
            "=================================================================\n",
            " conv2d (Conv2D)             (None, 28, 28, 32)        832       \n",
            "                                                                 \n",
            " max_pooling2d (MaxPooling2  (None, 14, 14, 32)        0         \n",
            " D)                                                              \n",
            "                                                                 \n",
            " conv2d_1 (Conv2D)           (None, 10, 10, 48)        38448     \n",
            "                                                                 \n",
            " max_pooling2d_1 (MaxPoolin  (None, 5, 5, 48)          0         \n",
            " g2D)                                                            \n",
            "                                                                 \n",
            " flatten (Flatten)           (None, 1200)              0         \n",
            "                                                                 \n",
            " dense (Dense)               (None, 256)               307456    \n",
            "                                                                 \n",
            " dense_1 (Dense)             (None, 84)                21588     \n",
            "                                                                 \n",
            " dense_2 (Dense)             (None, 10)                850       \n",
            "                                                                 \n",
            "=================================================================\n",
            "Total params: 369174 (1.41 MB)\n",
            "Trainable params: 369174 (1.41 MB)\n",
            "Non-trainable params: 0 (0.00 Byte)\n",
            "_________________________________________________________________\n"
          ]
        }
      ]
    },
    {
      "cell_type": "code",
      "source": [
        "# Compilando o modelo\n",
        "from keras.optimizers import Adam\n",
        "adam = Adam()\n",
        "# Entropia cruzada é feita pra aumentar a distância máxima entre as classes\n",
        "model.compile(loss='categorical_crossentropy', metrics=['accuracy'], optimizer=adam)\n"
      ],
      "metadata": {
        "id": "1xQeXEWUskQx"
      },
      "execution_count": 28,
      "outputs": []
    },
    {
      "cell_type": "code",
      "source": [
        "# Treinando o modelo\n",
        "trained_model = model.fit(x_train_normalized, y_train_category, epochs=10, validation_split=0.2)"
      ],
      "metadata": {
        "colab": {
          "base_uri": "https://localhost:8080/"
        },
        "id": "c4SNcP2JsuqH",
        "outputId": "3cc22fd2-9c2b-4024-9992-4eacc01f1d8a"
      },
      "execution_count": 29,
      "outputs": [
        {
          "output_type": "stream",
          "name": "stdout",
          "text": [
            "Epoch 1/10\n",
            "1500/1500 [==============================] - 92s 59ms/step - loss: 0.1393 - accuracy: 0.9563 - val_loss: 0.0724 - val_accuracy: 0.9753\n",
            "Epoch 2/10\n",
            "1500/1500 [==============================] - 86s 57ms/step - loss: 0.0463 - accuracy: 0.9856 - val_loss: 0.0406 - val_accuracy: 0.9873\n",
            "Epoch 3/10\n",
            "1500/1500 [==============================] - 88s 59ms/step - loss: 0.0322 - accuracy: 0.9896 - val_loss: 0.0365 - val_accuracy: 0.9900\n",
            "Epoch 4/10\n",
            "1500/1500 [==============================] - 86s 58ms/step - loss: 0.0246 - accuracy: 0.9926 - val_loss: 0.0498 - val_accuracy: 0.9864\n",
            "Epoch 5/10\n",
            "1500/1500 [==============================] - 99s 66ms/step - loss: 0.0189 - accuracy: 0.9940 - val_loss: 0.0406 - val_accuracy: 0.9897\n",
            "Epoch 6/10\n",
            "1500/1500 [==============================] - 79s 53ms/step - loss: 0.0154 - accuracy: 0.9952 - val_loss: 0.0349 - val_accuracy: 0.9908\n",
            "Epoch 7/10\n",
            "1500/1500 [==============================] - 80s 53ms/step - loss: 0.0142 - accuracy: 0.9956 - val_loss: 0.0323 - val_accuracy: 0.9918\n",
            "Epoch 8/10\n",
            "1500/1500 [==============================] - 83s 55ms/step - loss: 0.0102 - accuracy: 0.9966 - val_loss: 0.0412 - val_accuracy: 0.9912\n",
            "Epoch 9/10\n",
            "1500/1500 [==============================] - 80s 53ms/step - loss: 0.0105 - accuracy: 0.9968 - val_loss: 0.0568 - val_accuracy: 0.9877\n",
            "Epoch 10/10\n",
            "1500/1500 [==============================] - 79s 53ms/step - loss: 0.0085 - accuracy: 0.9973 - val_loss: 0.0584 - val_accuracy: 0.9895\n"
          ]
        }
      ]
    },
    {
      "cell_type": "code",
      "source": [
        "# Métricas do modelo\n",
        "plt.plot(trained_model.history['accuracy'])\n",
        "plt.plot(trained_model.history['val_accuracy'])\n",
        "plt.legend(['treino', 'validacao'])\n",
        "plt.xlabel('epocas')\n",
        "plt.ylabel('acuracia')\n",
        "\n",
        "# Perda\n",
        "plt.plot(trained_model.history['loss'])\n",
        "plt.plot(trained_model.history['val_loss'])\n",
        "plt.legend(['treino', 'validacao'])\n",
        "plt.xlabel('epocas')\n",
        "plt.ylabel('perda')\n"
      ],
      "metadata": {
        "colab": {
          "base_uri": "https://localhost:8080/",
          "height": 466
        },
        "id": "AFbtVAgFtdEq",
        "outputId": "e3029abd-880c-4444-c9e3-cda54f708b18"
      },
      "execution_count": 30,
      "outputs": [
        {
          "output_type": "execute_result",
          "data": {
            "text/plain": [
              "Text(0, 0.5, 'perda')"
            ]
          },
          "metadata": {},
          "execution_count": 30
        },
        {
          "output_type": "display_data",
          "data": {
            "text/plain": [
              "<Figure size 640x480 with 1 Axes>"
            ],
            "image/png": "[encoded data removed]"
          },
          "metadata": {}
        }
      ]
    },
    {
      "cell_type": "code",
      "source": [
        "# Salvando o modelo\n",
        "model.save('mnist_model.h5')"
      ],
      "metadata": {
        "colab": {
          "base_uri": "https://localhost:8080/"
        },
        "id": "L75MCqh1u3rO",
        "outputId": "2e818856-9888-4110-f893-736c3e5fc966"
      },
      "execution_count": 33,
      "outputs": [
        {
          "output_type": "stream",
          "name": "stderr",
          "text": [
            "/usr/local/lib/python3.10/dist-packages/keras/src/engine/training.py:3103: UserWarning: You are saving your model as an HDF5 file via `model.save()`. This file format is considered legacy. We recommend using instead the native Keras format, e.g. `model.save('my_model.keras')`.\n",
            "  saving_api.save_model(\n"
          ]
        }
      ]
    },
    {
      "cell_type": "code",
      "source": [
        "# Testando o modelo\n",
        "from tensorflow.keras.models import load_model\n",
        "modelo_2 = load_model('mnist_model.h5')\n",
        "\n",
        "# Realiza uma predição com o modelo\n",
        "predicao = model.predict(x_test_normalized[0].reshape(1, 28, 28, 1))\n",
        "print(np.argmax(predicao))\n"
      ],
      "metadata": {
        "colab": {
          "base_uri": "https://localhost:8080/"
        },
        "id": "IONI_MvDu_JU",
        "outputId": "864d6fa8-d232-48e8-ad23-e8912f018e9c"
      },
      "execution_count": 35,
      "outputs": [
        {
          "output_type": "stream",
          "name": "stdout",
          "text": [
            "1/1 [==============================] - 0s 36ms/step\n",
            "7\n"
          ]
        }
      ]
    },
    {
      "cell_type": "code",
      "source": [
        "plt.imshow(x_test_normalized[0], cmap='gray_r')\n"
      ],
      "metadata": {
        "colab": {
          "base_uri": "https://localhost:8080/",
          "height": 447
        },
        "id": "x9Dqi7pNxI_V",
        "outputId": "20000b7f-90ef-4bcc-c4d9-68c544469276"
      },
      "execution_count": 36,
      "outputs": [
        {
          "output_type": "execute_result",
          "data": {
            "text/plain": [
              "<matplotlib.image.AxesImage at 0x7a20b0c8ae60>"
            ]
          },
          "metadata": {},
          "execution_count": 36
        },
        {
          "output_type": "display_data",
          "data": {
            "text/plain": [
              "<Figure size 640x480 with 1 Axes>"
            ],
            "image/png": "[encoded data removed]"
          },
          "metadata": {}
        }
      ]
    }
  ]
}