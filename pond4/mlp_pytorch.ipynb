{
  "nbformat": 4,
  "nbformat_minor": 0,
  "metadata": {
    "colab": {
      "provenance": []
    },
    "kernelspec": {
      "name": "python3",
      "display_name": "Python 3"
    },
    "language_info": {
      "name": "python"
    }
  },
  "cells": [
    {
      "cell_type": "markdown",
      "source": [
        "# Implementando o mlp com o pytorch"
      ],
      "metadata": {
        "id": "Rjj6zezlbf68"
      }
    },
    {
      "cell_type": "code",
      "execution_count": 18,
      "metadata": {
        "id": "dMnA7ArvbebA"
      },
      "outputs": [],
      "source": [
        "# Importando libs\n",
        "import torch\n",
        "import torch.nn as neural_network\n",
        "import torch.optim as optim"
      ]
    },
    {
      "cell_type": "code",
      "source": [
        "# Definindo a rede neural\n",
        "## Do mesmo modo que na implementação na unha essa rede neural tem duas camadas\n",
        "neural_mlp = neural_network.Sequential(\n",
        "    neural_network.Linear(2, 2),\n",
        "    neural_network.Sigmoid(),\n",
        "    neural_network.Linear(2, 1),\n",
        "    neural_network.Sigmoid()\n",
        ")"
      ],
      "metadata": {
        "id": "9HjtK-Dobng9"
      },
      "execution_count": 19,
      "outputs": []
    },
    {
      "cell_type": "code",
      "source": [
        "# Definindo os dados de treino e váriavel alvo\n",
        "X_train = torch.tensor([[0, 0], [0, 1], [1, 0], [1, 1]], dtype=torch.float32)\n",
        "y_train = torch.tensor([[0], [1], [1], [0]], dtype=torch.float32)"
      ],
      "metadata": {
        "id": "7o_9U8o4cFbE"
      },
      "execution_count": 20,
      "outputs": []
    },
    {
      "cell_type": "code",
      "source": [
        "# Definindo uma função de perca e optimização\n",
        "criterion = neural_network.MSELoss()\n",
        "optimizer = optim.SGD(neural_mlp.parameters(), lr=0.2)"
      ],
      "metadata": {
        "id": "WC4Q1WLicKzq"
      },
      "execution_count": 21,
      "outputs": []
    },
    {
      "cell_type": "code",
      "source": [
        "# Treinando o modelo\n",
        "epochs = 4521\n",
        "for epoch in range(epochs):\n",
        "    optimizer.zero_grad()\n",
        "    outputs = neural_mlp(X_train)\n",
        "    loss = criterion(outputs, y_train)\n",
        "    loss.backward()\n",
        "    optimizer.step()"
      ],
      "metadata": {
        "id": "vCRbm0fLcRPA"
      },
      "execution_count": 22,
      "outputs": []
    },
    {
      "cell_type": "markdown",
      "source": [
        "### Testando o modelo"
      ],
      "metadata": {
        "id": "-FxVuipXdFYl"
      }
    },
    {
      "cell_type": "markdown",
      "source": [
        "- Quanto mais próximo de 1 mais provável que seja uma porta XOR\n",
        "- Quanto mais próximo de 0 mais provável que não seja uma porta XOR"
      ],
      "metadata": {
        "id": "d977HEOBdImi"
      }
    },
    {
      "cell_type": "code",
      "source": [
        "\n",
        "test_inputs = torch.tensor([[1, 0], [0, 1], [1, 1], [0, 0]], dtype=torch.float32)\n",
        "\n",
        "test_1 = torch.tensor([1,0],dtype=torch.float32 )\n",
        "test_2 = torch.tensor([0,0],dtype=torch.float32 )\n",
        "test_3 = torch.tensor([0,1],dtype=torch.float32 )\n",
        "test_4 = torch.tensor([1,1],dtype=torch.float32 )\n",
        "\n",
        "\n",
        "prediction1 = neural_mlp(test_1)\n",
        "prediction2 = neural_mlp(test_2)\n",
        "prediction3 = neural_mlp(test_3)\n",
        "prediction4 = neural_mlp(test_4)\n",
        "\n",
        "print(f'predição 01 {prediction1}, esperado 1'  )\n",
        "print(f'predição 02 {prediction2}, esperado 0'  )\n",
        "print(f'predição 03 {prediction3}, esperado 1'  )\n",
        "print(f'predição 04 {prediction4}, esperado 0'  )"
      ],
      "metadata": {
        "colab": {
          "base_uri": "https://localhost:8080/"
        },
        "id": "zOYLd5UNchWW",
        "outputId": "b4f4152d-be29-4ab5-88ef-5eec9104e5e8"
      },
      "execution_count": 23,
      "outputs": [
        {
          "output_type": "stream",
          "name": "stdout",
          "text": [
            "predição 01 tensor([0.4856], grad_fn=<SigmoidBackward0>), esperado 1\n",
            "predição 02 tensor([0.1224], grad_fn=<SigmoidBackward0>), esperado 0\n",
            "predição 03 tensor([0.8770], grad_fn=<SigmoidBackward0>), esperado 1\n",
            "predição 04 tensor([0.5156], grad_fn=<SigmoidBackward0>), esperado 0\n"
          ]
        }
      ]
    },
    {
      "cell_type": "code",
      "source": [],
      "metadata": {
        "id": "wGX4mx-icqWD"
      },
      "execution_count": 23,
      "outputs": []
    }
  ]
}